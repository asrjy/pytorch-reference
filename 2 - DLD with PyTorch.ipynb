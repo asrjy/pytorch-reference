{
 "cells": [
  {
   "cell_type": "markdown",
   "id": "6d9f94e1",
   "metadata": {},
   "source": [
    "stage 1:\n",
    "data preperation stage\n",
    "\n",
    "- prepare the data. load from external sourec and convert it to appropriate format for model training. \n",
    "- load this data and convert it to numeric values in the form of tensors. \n",
    "- these tensors act as inputs to the model during the training stage. \n",
    "- in training, they are preprocessed via transforms and grouped into batches.\n",
    "\n",
    "stage 2:\n",
    "experimentation and development\n",
    "- train model, test performance and optimize our hyperparameters to improve performance to desired level. \n",
    "- pytorch provides modules in torch.nn module to help create and train neural networks. \n",
    "- we define loss function and select an optimizer\n",
    "- backprop is performed and model parameters are updated. \n",
    "- within each epoch, we also validate our model using validation data.\n",
    "- finally model is passed to test data and performance is measured. \n",
    "\n",
    "stage 3:\n",
    "model deployment \n",
    "- fully trained model can be put on pytorch hub or edge device or local server\n",
    "- it may also be put on cloud server after some postprocessing"
   ]
  },
  {
   "cell_type": "markdown",
   "id": "9822b2cf",
   "metadata": {},
   "source": [
    "- pytorch provides built in classes and utilities such as Dataset, DataLoader and Sampler classes for loading various types of data. \n",
    "- Dataset class defines how to access and preprocess data from file or data sources. \n",
    "- Sampler class defines how to sample data from dataset  in order to create batches. \n",
    "- DataLoader class combines dataset with a sampler and allows you to iterate over a set of batches. \n",
    "- pytorch libraries such as Torchvision and Torchtext provide classes to support computer vision data and natural language data. \n",
    "- torchvision.datasets module provides number of subclasses to load image data from popular academic datasets. \n",
    "- CIFAR-10 consists of 50k training and 10k testing for 10 possible objects. "
   ]
  },
  {
   "cell_type": "code",
   "execution_count": 1,
   "id": "2f00f9d1",
   "metadata": {},
   "outputs": [
    {
     "name": "stdout",
     "output_type": "stream",
     "text": [
      "Files already downloaded and verified\n"
     ]
    }
   ],
   "source": [
    "from torchvision.datasets import CIFAR10\n",
    "\n",
    "train_data = CIFAR10(root = './train', train=True, download=True)"
   ]
  },
  {
   "cell_type": "code",
   "execution_count": 2,
   "id": "5e5fa55d",
   "metadata": {},
   "outputs": [
    {
     "name": "stdout",
     "output_type": "stream",
     "text": [
      "Dataset CIFAR10\n",
      "    Number of datapoints: 50000\n",
      "    Root location: ./train\n",
      "    Split: Train\n"
     ]
    }
   ],
   "source": [
    "# printing general information\n",
    "print(train_data)"
   ]
  },
  {
   "cell_type": "code",
   "execution_count": 3,
   "id": "d3c1dd50",
   "metadata": {},
   "outputs": [
    {
     "name": "stdout",
     "output_type": "stream",
     "text": [
      "50000\n"
     ]
    }
   ],
   "source": [
    "# number of data samples\n",
    "print(len(train_data))"
   ]
  },
  {
   "cell_type": "code",
   "execution_count": 4,
   "id": "ea0630c9",
   "metadata": {},
   "outputs": [
    {
     "name": "stdout",
     "output_type": "stream",
     "text": [
      "(50000, 32, 32, 3)\n"
     ]
    }
   ],
   "source": [
    "print(train_data.data.shape)\n",
    "# 50000 images, each is 32x32 with 3 channels"
   ]
  },
  {
   "cell_type": "code",
   "execution_count": 5,
   "id": "c9200f9e",
   "metadata": {},
   "outputs": [
    {
     "name": "stdout",
     "output_type": "stream",
     "text": [
      "[6, 9, 9, 4, 1, 1, 2, 7, 8, 3]\n"
     ]
    }
   ],
   "source": [
    "print(train_data.targets[:10])"
   ]
  },
  {
   "cell_type": "code",
   "execution_count": 6,
   "id": "de6676d4",
   "metadata": {},
   "outputs": [
    {
     "name": "stdout",
     "output_type": "stream",
     "text": [
      "['airplane', 'automobile', 'bird', 'cat', 'deer', 'dog', 'frog', 'horse', 'ship', 'truck']\n"
     ]
    }
   ],
   "source": [
    "print(train_data.classes)"
   ]
  },
  {
   "cell_type": "code",
   "execution_count": 7,
   "id": "b8472070",
   "metadata": {},
   "outputs": [
    {
     "name": "stdout",
     "output_type": "stream",
     "text": [
      "{'airplane': 0, 'automobile': 1, 'bird': 2, 'cat': 3, 'deer': 4, 'dog': 5, 'frog': 6, 'horse': 7, 'ship': 8, 'truck': 9}\n"
     ]
    }
   ],
   "source": [
    "print(train_data.class_to_idx)"
   ]
  },
  {
   "cell_type": "code",
   "execution_count": 8,
   "id": "aba6f20c",
   "metadata": {},
   "outputs": [
    {
     "name": "stdout",
     "output_type": "stream",
     "text": [
      "<class 'tuple'>\n"
     ]
    }
   ],
   "source": [
    "print(type(train_data[0]))"
   ]
  },
  {
   "cell_type": "code",
   "execution_count": 9,
   "id": "620ae305",
   "metadata": {},
   "outputs": [
    {
     "name": "stdout",
     "output_type": "stream",
     "text": [
      "2\n"
     ]
    }
   ],
   "source": [
    "print(len(train_data[0]))"
   ]
  },
  {
   "cell_type": "code",
   "execution_count": 10,
   "id": "dc0418d1",
   "metadata": {},
   "outputs": [],
   "source": [
    "data, label = train_data[0]"
   ]
  },
  {
   "cell_type": "code",
   "execution_count": 11,
   "id": "10a26b5a",
   "metadata": {},
   "outputs": [
    {
     "name": "stdout",
     "output_type": "stream",
     "text": [
      "<class 'PIL.Image.Image'>\n"
     ]
    }
   ],
   "source": [
    "print(type(data))"
   ]
  },
  {
   "cell_type": "code",
   "execution_count": 12,
   "id": "33a50f8c",
   "metadata": {},
   "outputs": [
    {
     "name": "stdout",
     "output_type": "stream",
     "text": [
      "<PIL.Image.Image image mode=RGB size=32x32 at 0x7F59A8430F90>\n"
     ]
    }
   ],
   "source": [
    "print(data)"
   ]
  },
  {
   "cell_type": "markdown",
   "id": "6e7d1385",
   "metadata": {},
   "source": [
    "PIL is a common image format that uses Pillow Library to store image pixel values in the format of height x width x channels. "
   ]
  },
  {
   "cell_type": "code",
   "execution_count": 13,
   "id": "d7a0f185",
   "metadata": {},
   "outputs": [
    {
     "name": "stdout",
     "output_type": "stream",
     "text": [
      "<class 'int'>\n"
     ]
    }
   ],
   "source": [
    "print(type(label))"
   ]
  },
  {
   "cell_type": "code",
   "execution_count": 14,
   "id": "436f572b",
   "metadata": {},
   "outputs": [
    {
     "name": "stdout",
     "output_type": "stream",
     "text": [
      "6\n"
     ]
    }
   ],
   "source": [
    "print(label)"
   ]
  },
  {
   "cell_type": "code",
   "execution_count": 15,
   "id": "2721cd14",
   "metadata": {},
   "outputs": [
    {
     "name": "stdout",
     "output_type": "stream",
     "text": [
      "frog\n"
     ]
    }
   ],
   "source": [
    "print(train_data.classes[label])"
   ]
  },
  {
   "cell_type": "markdown",
   "id": "f5050deb",
   "metadata": {},
   "source": [
    "- loading the test data\n",
    "- changing root folder and setting train = False will work"
   ]
  },
  {
   "cell_type": "code",
   "execution_count": null,
   "id": "3c41bd9d",
   "metadata": {},
   "outputs": [],
   "source": [
    "test_data = CIFAR10(root = './test/', train = False, download = True)\n",
    "print(test_data)"
   ]
  },
  {
   "cell_type": "markdown",
   "id": "7831a143",
   "metadata": {},
   "source": [
    "- data needs to be adjusted before it's passed to the NN model.\n",
    "- adjustments include normalization, type conversion from object to tensor etc.,\n",
    "- can be perfomed by applying transforms. \n",
    "- in pytorch, a sequence of transforms can be defined and can be applied later when data is accessed. \n",
    "- can be performed using cpu and gpu parallelly. "
   ]
  },
  {
   "cell_type": "code",
   "execution_count": 18,
   "id": "7595aea6",
   "metadata": {},
   "outputs": [
    {
     "name": "stdout",
     "output_type": "stream",
     "text": [
      "Files already downloaded and verified\n"
     ]
    }
   ],
   "source": [
    "from torchvision import transforms\n",
    "\n",
    "train_transforms = transforms.Compose([\n",
    "    transforms.RandomCrop(32, padding = 4),\n",
    "    transforms.RandomHorizontalFlip(),\n",
    "    transforms.ToTensor(),\n",
    "    transforms.Normalize(\n",
    "            mean = (0.4914, 0.4822, 0.4465),\n",
    "            std = (0.2023, 0.1994, 0.2010)\n",
    "    )\n",
    "])\n",
    "\n",
    "train_data = CIFAR10(root = './train', train = True, download = True, transform = train_transforms)"
   ]
  },
  {
   "cell_type": "markdown",
   "id": "57042e75",
   "metadata": {},
   "source": [
    "- mean and standard deviation numbers were predetermined based on the dataset. \n",
    "- transform method is used when creating the dataset itself. \n",
    "- transforms are defined using transform.Compose() method. \n",
    "- transforms used above are randomly cropping images, randomly flipping images, converting them to tensors, normalizing them to predetermined means and standard deviations. "
   ]
  },
  {
   "cell_type": "code",
   "execution_count": 19,
   "id": "a96138cb",
   "metadata": {},
   "outputs": [
    {
     "name": "stdout",
     "output_type": "stream",
     "text": [
      "Dataset CIFAR10\n",
      "    Number of datapoints: 50000\n",
      "    Root location: ./train\n",
      "    Split: Train\n",
      "    StandardTransform\n",
      "Transform: Compose(\n",
      "               RandomCrop(size=(32, 32), padding=4)\n",
      "               RandomHorizontalFlip(p=0.5)\n",
      "               ToTensor()\n",
      "               Normalize(mean=(0.4914, 0.4822, 0.4465), std=(0.2023, 0.1994, 0.201))\n",
      "           )\n"
     ]
    }
   ],
   "source": [
    "print(train_data)"
   ]
  },
  {
   "cell_type": "code",
   "execution_count": 20,
   "id": "70ac727e",
   "metadata": {},
   "outputs": [
    {
     "name": "stdout",
     "output_type": "stream",
     "text": [
      "StandardTransform\n",
      "Transform: Compose(\n",
      "               RandomCrop(size=(32, 32), padding=4)\n",
      "               RandomHorizontalFlip(p=0.5)\n",
      "               ToTensor()\n",
      "               Normalize(mean=(0.4914, 0.4822, 0.4465), std=(0.2023, 0.1994, 0.201))\n",
      "           )\n"
     ]
    }
   ],
   "source": [
    "print(train_data.transforms)"
   ]
  },
  {
   "cell_type": "code",
   "execution_count": 21,
   "id": "518b8be0",
   "metadata": {},
   "outputs": [
    {
     "name": "stdout",
     "output_type": "stream",
     "text": [
      "<class 'torch.Tensor'>\n",
      "torch.Size([3, 32, 32])\n",
      "tensor([[[-2.4291e+00, -2.4291e+00, -2.4291e+00,  ..., -2.4291e+00,\n",
      "          -2.4291e+00, -2.4291e+00],\n",
      "         [-1.2854e+00, -1.5955e+00, -1.4598e+00,  ...,  6.3375e-01,\n",
      "           5.1744e-01,  4.3990e-01],\n",
      "         [-2.1189e+00, -2.4291e+00, -2.0801e+00,  ..., -4.4721e-02,\n",
      "          -1.2226e-01, -6.4106e-02],\n",
      "         ...,\n",
      "         [ 1.8356e+00,  1.4673e+00,  1.1765e+00,  ...,  9.2452e-01,\n",
      "          -1.3435e+00, -1.7894e+00],\n",
      "         [ 1.6030e+00,  1.4673e+00,  1.4091e+00,  ...,  6.7252e-01,\n",
      "          -1.3435e+00, -1.4017e+00],\n",
      "         [ 1.0602e+00,  9.2452e-01,  1.1765e+00,  ...,  1.1378e+00,\n",
      "          -5.4873e-01, -8.2012e-01]],\n",
      "\n",
      "        [[-2.4183e+00, -2.4183e+00, -2.4183e+00,  ..., -2.4183e+00,\n",
      "          -2.4183e+00, -2.4183e+00],\n",
      "         [-1.1989e+00, -1.5136e+00, -1.4742e+00,  ...,  1.7777e-01,\n",
      "           4.0101e-02,  2.0434e-02],\n",
      "         [-2.0249e+00, -2.4183e+00, -2.2609e+00,  ..., -6.8757e-01,\n",
      "          -7.8591e-01, -7.0724e-01],\n",
      "         ...,\n",
      "         [ 1.1611e+00,  5.3177e-01,  4.9244e-01,  ...,  4.1377e-01,\n",
      "          -1.8479e+00, -2.0446e+00],\n",
      "         [ 9.2511e-01,  5.9077e-01,  7.4811e-01,  ...,  1.9744e-01,\n",
      "          -1.8086e+00, -1.7496e+00],\n",
      "         [ 3.1544e-01,  7.6703e-04,  4.1377e-01,  ...,  4.9244e-01,\n",
      "          -1.1989e+00, -1.3759e+00]],\n",
      "\n",
      "        [[-2.2214e+00, -2.2214e+00, -2.2214e+00,  ..., -2.2214e+00,\n",
      "          -2.2214e+00, -2.2214e+00],\n",
      "         [-9.9224e-01, -1.3434e+00, -1.3825e+00,  ..., -1.1428e-01,\n",
      "          -2.3134e-01, -2.1183e-01],\n",
      "         [-1.8312e+00, -2.2214e+00, -2.2214e+00,  ..., -1.1483e+00,\n",
      "          -1.2459e+00, -1.1093e+00],\n",
      "         ...,\n",
      "         [-4.4596e-01, -1.7922e+00, -1.7531e+00,  ..., -5.2400e-01,\n",
      "          -2.0458e+00, -2.0458e+00],\n",
      "         [-3.4841e-01, -1.5580e+00, -1.7141e+00,  ..., -8.5567e-01,\n",
      "          -2.0848e+00, -1.8312e+00],\n",
      "         [-3.4841e-01, -1.4020e+00, -1.6361e+00,  ..., -3.8743e-01,\n",
      "          -1.5580e+00, -1.5580e+00]]])\n"
     ]
    }
   ],
   "source": [
    "data, label = train_data[0]\n",
    "print(type(data))\n",
    "print(data.size())\n",
    "print(data)"
   ]
  },
  {
   "cell_type": "code",
   "execution_count": 30,
   "id": "c4e16d9e",
   "metadata": {},
   "outputs": [],
   "source": [
    "import matplotlib.pyplot as plt"
   ]
  },
  {
   "cell_type": "code",
   "execution_count": 40,
   "id": "74780b43",
   "metadata": {},
   "outputs": [
    {
     "name": "stderr",
     "output_type": "stream",
     "text": [
      "Clipping input data to the valid range for imshow with RGB data ([0..1] for floats or [0..255] for integers).\n"
     ]
    },
    {
     "data": {
      "text/plain": [
       "<matplotlib.image.AxesImage at 0x7f59a350fdd0>"
      ]
     },
     "execution_count": 40,
     "metadata": {},
     "output_type": "execute_result"
    },
    {
     "data": {
      "image/png": "[encoded data removed]",
      "text/plain": [
       "<Figure size 432x288 with 1 Axes>"
      ]
     },
     "metadata": {
      "needs_background": "light"
     },
     "output_type": "display_data"
    }
   ],
   "source": [
    "plt.imshow(data.permute(2,1,0))"
   ]
  },
  {
   "cell_type": "markdown",
   "id": "f6fed3cd",
   "metadata": {},
   "source": [
    "- in the same way we can transform test data as well. \n",
    "- for example, converting to tensors is the only transform on test"
   ]
  },
  {
   "cell_type": "code",
   "execution_count": null,
   "id": "d024e013",
   "metadata": {},
   "outputs": [],
   "source": [
    "test_transforms = transforms.Compose([\n",
    "    transforms.ToTensor(),\n",
    "    transforms.Normalize(\n",
    "    (0.4914, 0.4822, 0.4465),\n",
    "    (0.2023, 0.1994, 0.2010)\n",
    "    )\n",
    "])\n",
    "\n",
    "test_data = CIFAR10(root='./test/', train=False, transform=test_transforms)\n",
    "\n",
    "print(test_data)\n",
    "\n",
    "print(test_data.transforms)"
   ]
  },
  {
   "cell_type": "code",
   "execution_count": null,
   "id": "12ec1da0",
   "metadata": {},
   "outputs": [],
   "source": []
  }
 ],
 "metadata": {
  "kernelspec": {
   "display_name": "Python 3 (ipykernel)",
   "language": "python",
   "name": "python3"
  },
  "language_info": {
   "codemirror_mode": {
    "name": "ipython",
    "version": 3
   },
   "file_extension": ".py",
   "mimetype": "text/x-python",
   "name": "python",
   "nbconvert_exporter": "python",
   "pygments_lexer": "ipython3",
   "version": "3.7.6"
  }
 },
 "nbformat": 4,
 "nbformat_minor": 5
}
